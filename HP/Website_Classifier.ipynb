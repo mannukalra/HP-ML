{
 "cells": [
  {
   "cell_type": "markdown",
   "metadata": {},
   "source": [
    "Final model used is RandomForestClassifier after comparing resluts from :\n",
    "\n",
    "LogisticRegression, RandomForestClassifier, SVM, GradientBoostingClassifier and XGBOOST with 3 samples of data prepared after feature enineering.\n"
   ]
  },
  {
   "cell_type": "markdown",
   "metadata": {},
   "source": [
    "Reading the csv and splitting features and label to x & y"
   ]
  },
  {
   "cell_type": "code",
   "execution_count": 1,
   "metadata": {},
   "outputs": [
    {
     "name": "stdout",
     "output_type": "stream",
     "text": [
      "(8955, 31) (8955, 30) (8955,)\n"
     ]
    }
   ],
   "source": [
    "import pandas as pd\n",
    "import matplotlib.pyplot as plt\n",
    "import numpy as np\n",
    "\n",
    "from sklearn.model_selection import train_test_split\n",
    "from sklearn.discriminant_analysis import LinearDiscriminantAnalysis as LDA\n",
    "from sklearn.metrics import precision_score\n",
    "\n",
    "from sklearn.linear_model import LogisticRegression\n",
    "from sklearn import svm\n",
    "\n",
    "from sklearn.ensemble import RandomForestClassifier\n",
    "from sklearn.metrics import accuracy_score\n",
    "\n",
    "from sklearn.ensemble import GradientBoostingClassifier\n",
    "import xgboost as xgb\n",
    "\n",
    "%matplotlib inline\n",
    "\n",
    "\n",
    "dataset = pd.read_csv('Phising_Training_Dataset.csv')\n",
    "\n",
    "data = dataset.drop(\"key\", axis=1)\n",
    "x = data.drop(\"Result\", axis=1)\n",
    "y = data[\"Result\"]\n",
    "y.replace(-1, 0, inplace=True)\n",
    "\n",
    "print(data.shape, x.shape, y.shape)\n",
    "# print(data.describe())\n"
   ]
  },
  {
   "cell_type": "markdown",
   "metadata": {},
   "source": [
    "Train test split"
   ]
  },
  {
   "cell_type": "code",
   "execution_count": 2,
   "metadata": {},
   "outputs": [],
   "source": [
    "X_train, X_test, Y_train, Y_test = train_test_split(x, y, test_size=0.2, random_state=0, stratify= y)"
   ]
  },
  {
   "cell_type": "markdown",
   "metadata": {},
   "source": [
    "Removing the features with negligible or none correlation with respect to target result"
   ]
  },
  {
   "cell_type": "code",
   "execution_count": 3,
   "metadata": {},
   "outputs": [
    {
     "name": "stdout",
     "output_type": "stream",
     "text": [
      "non correlated features count below threshold of 0.01 :  3\n"
     ]
    },
    {
     "data": {
      "text/plain": [
       "(7164, 27)"
      ]
     },
     "execution_count": 3,
     "metadata": {},
     "output_type": "execute_result"
    }
   ],
   "source": [
    "df = pd.DataFrame(data)\n",
    "\n",
    "def eval_correlation(data, threshold = .009):\n",
    "    minimal_cr_set = set()\n",
    "    for (columnName, columnData) in data.iteritems():\n",
    "        df[columnName] =df[columnName].astype('category').cat.codes\n",
    "        \n",
    "    corr_vals = df[df.columns[1:]].corr()['Result']\n",
    "    for rownum, (indx, val) in enumerate(corr_vals.iteritems()):\n",
    "        if(abs(val) < threshold):\n",
    "            minimal_cr_set.add(indx)\n",
    "    return minimal_cr_set\n",
    "\n",
    "threshold = 0.01\n",
    "minimal_cr_set = eval_correlation(df, threshold)\n",
    "print(f'non correlated features count below threshold of {threshold} : ', len(set(minimal_cr_set)) ) \n",
    "\n",
    "# dropping the features with neglible correlation\n",
    "X_train_uncorr = X_train.drop(labels=minimal_cr_set, axis = 1)\n",
    "X_test_uncorr = X_test.drop(labels = minimal_cr_set, axis = 1)\n",
    "\n",
    "X_train_uncorr.shape"
   ]
  },
  {
   "cell_type": "markdown",
   "metadata": {},
   "source": [
    "Feature Dimention Reduction attemp using LDA (LinearDiscriminantAnalysis).\n",
    "\n",
    "LDA is a Classifier too but results(LDA's precision score, i.e. 9.2 before the visual) seems to be not that apealing.\n",
    "\n",
    "LDA helps reduce the data in one dimention and VISUALISE the variance of data, which seems to have quite some overlap, not much outliers.\n"
   ]
  },
  {
   "cell_type": "code",
   "execution_count": 4,
   "metadata": {},
   "outputs": [
    {
     "name": "stdout",
     "output_type": "stream",
     "text": [
      "(7164, 1) (1791, 1)\n",
      "(1791, 30)\n",
      "LDA's precision score :  0.92\n"
     ]
    },
    {
     "data": {
      "image/png": "[encoded data removed]",
      "text/plain": [
       "<Figure size 720x720 with 1 Axes>"
      ]
     },
     "metadata": {
      "needs_background": "light"
     },
     "output_type": "display_data"
    }
   ],
   "source": [
    "\n",
    "lda = LDA(n_components=1)\n",
    "X_train_lda = lda.fit_transform(X_train, Y_train)\n",
    "X_test_lda = lda.transform(X_test)\n",
    "\n",
    "print(X_train_lda.shape, X_test_lda.shape)\n",
    "print(X_test.shape)\n",
    "X_test_pred =lda.predict(X_test)\n",
    "print(\"LDA's precision score : \", precision_score(Y_test, X_test_pred))\n",
    "\n",
    "markers = ['+','*']\n",
    "colors = ['r','g']\n",
    "\n",
    "fig = plt.figure(figsize=(10,10))\n",
    "ax = fig.add_subplot(111)\n",
    "\n",
    "for l,m,c in zip(np.unique(Y_train), markers, colors):\n",
    "    ax.scatter(X_train_lda[:,0][Y_train==l],X_train_lda[:,0][Y_train==l],c=c,marker=m)\n"
   ]
  },
  {
   "cell_type": "markdown",
   "metadata": {},
   "source": [
    "Now that there are 3 samples of data:\n",
    "\n",
    "1. Default(intact)  2. Un-Correlated    3. LDA dim reduced\n",
    "\n",
    "All 3 samples testing on LogisticRegression, RandomForestClassifier, SVM, GradientBoostingClassifier and XGBOOST follows:\n"
   ]
  },
  {
   "cell_type": "markdown",
   "metadata": {},
   "source": [
    "LogisticRegression implementation function"
   ]
  },
  {
   "cell_type": "code",
   "execution_count": 5,
   "metadata": {},
   "outputs": [],
   "source": [
    "def run_LogisticRegression(x_train_l, x_test_l, y_train_l, y_test_l, type='None'):\n",
    "    model = LogisticRegression()\n",
    "    model.fit(x_train_l, y_train_l)\n",
    "    print(f'LogisticRegression Accuracy on test set with {type} :', model.score(x_test_l, y_test_l))"
   ]
  },
  {
   "cell_type": "code",
   "execution_count": 6,
   "metadata": {},
   "outputs": [
    {
     "name": "stdout",
     "output_type": "stream",
     "text": [
      "LogisticRegression Accuracy on test set with LDA : 0.9302065884980458\n",
      "LogisticRegression Accuracy on test set with UNCORR : 0.9335566722501396\n",
      "LogisticRegression Accuracy on test set with Default : 0.9352317141261864\n"
     ]
    }
   ],
   "source": [
    "run_LogisticRegression(X_train_lda, X_test_lda, Y_train, Y_test, type=\"LDA\")\n",
    "run_LogisticRegression(X_train_uncorr, X_test_uncorr, Y_train, Y_test, type=\"UNCORR\")\n",
    "run_LogisticRegression(X_train, X_test, Y_train, Y_test, \"Default\")"
   ]
  },
  {
   "cell_type": "markdown",
   "metadata": {},
   "source": [
    "RandomForestClassifier implementation function"
   ]
  },
  {
   "cell_type": "code",
   "execution_count": 7,
   "metadata": {},
   "outputs": [],
   "source": [
    "final_model_rf = RandomForestClassifier(n_estimators=88, random_state=0, n_jobs=-1)\n",
    "\n",
    "def run_randomForest(x_train_l, x_test_l, y_train_l, y_test_l, type='None'):\n",
    "    final_model_rf.fit(x_train_l, y_train_l)\n",
    "    y_pred = final_model_rf.predict(x_test_l)\n",
    "    print(f'RandomForestClassifier Accuracy on test set with {type} :', accuracy_score(y_test_l, y_pred))"
   ]
  },
  {
   "cell_type": "code",
   "execution_count": 8,
   "metadata": {},
   "outputs": [
    {
     "name": "stdout",
     "output_type": "stream",
     "text": [
      "RandomForestClassifier Accuracy on test set with LDA : 0.9380234505862647\n",
      "RandomForestClassifier Accuracy on test set with UNCORR : 0.9709659408151871\n",
      "RandomForestClassifier Accuracy on test set with Default : 0.9720826353992184\n"
     ]
    }
   ],
   "source": [
    "run_randomForest(X_train_lda, X_test_lda, Y_train, Y_test, type=\"LDA\")\n",
    "run_randomForest(X_train_uncorr, X_test_uncorr, Y_train, Y_test, type=\"UNCORR\")\n",
    "run_randomForest(X_train, X_test, Y_train, Y_test, \"Default\")"
   ]
  },
  {
   "cell_type": "markdown",
   "metadata": {},
   "source": [
    "SVM implementation function"
   ]
  },
  {
   "cell_type": "code",
   "execution_count": 9,
   "metadata": {},
   "outputs": [],
   "source": [
    "def run_SVM(X_train_l, X_test_l, Y_train_l, Y_test_l, type='None'):\n",
    "    model = svm.SVC(C=9, kernel='poly') #'linear', 'poly', 'rbf', 'sigmoid', 'precomputed'\n",
    "    model.fit(X_train_l, Y_train_l)\n",
    "    print(f'SVM Accuracy on test set {type} :', model.score(X_test_l, Y_test_l))"
   ]
  },
  {
   "cell_type": "code",
   "execution_count": 10,
   "metadata": {},
   "outputs": [
    {
     "name": "stdout",
     "output_type": "stream",
     "text": [
      "SVM Accuracy on test set LDA : 0.9050809603573423\n",
      "SVM Accuracy on test set UNCORR : 0.966499162479062\n",
      "SVM Accuracy on test set Default : 0.9670575097710776\n"
     ]
    }
   ],
   "source": [
    "run_SVM(X_train_lda, X_test_lda, Y_train, Y_test, type=\"LDA\")\n",
    "run_SVM(X_train_uncorr, X_test_uncorr, Y_train, Y_test, type=\"UNCORR\")\n",
    "run_SVM(X_train, X_test, Y_train, Y_test, \"Default\")"
   ]
  },
  {
   "cell_type": "markdown",
   "metadata": {},
   "source": [
    "GradientBoostingClassifier & XGBoost implementation function"
   ]
  },
  {
   "cell_type": "code",
   "execution_count": 11,
   "metadata": {},
   "outputs": [],
   "source": [
    "\n",
    "def run_gradientBoosting(X_train_l, X_test_l, Y_train_l, Y_test_l, isXGB = True, type='None'):\n",
    "    prefix = \"GradientBoostingClassifier\"\n",
    "    if isXGB:\n",
    "        prefix = \"XGBoost\"\n",
    "    if isXGB:\n",
    "        train = xgb.DMatrix(X_train_l, label=Y_train_l)\n",
    "        test = xgb.DMatrix(X_test_l, label=Y_test_l)\n",
    "        param = {\n",
    "            'max_depth': 12,\n",
    "            'eta': 0.33,\n",
    "            'objective': 'multi:softmax',\n",
    "            'num_class': 2} \n",
    "        epochs = 30 \n",
    "        model = xgb.train(param, train, epochs)\n",
    "        y_preds = model.predict(test)\n",
    "    else:\n",
    "        model = GradientBoostingClassifier(n_estimators=112)\n",
    "        model.fit(X_train_l, Y_train_l)\n",
    "        y_preds = model.predict(X_test_l)\n",
    "    \n",
    "    # print(confusion_matrix(Y_test_l, y_preds))\n",
    "    print(f'{prefix} Accuracy on test set  {type} :', accuracy_score(Y_test_l, y_preds))"
   ]
  },
  {
   "cell_type": "code",
   "execution_count": 12,
   "metadata": {},
   "outputs": [
    {
     "name": "stdout",
     "output_type": "stream",
     "text": [
      "GradientBoostingClassifier Accuracy on test set  LDA : 0.9285315466219989\n",
      "GradientBoostingClassifier Accuracy on test set  UNCORR : 0.9519821328866555\n",
      "GradientBoostingClassifier Accuracy on test set  Default : 0.9536571747627024\n"
     ]
    }
   ],
   "source": [
    "run_gradientBoosting(X_train_lda, X_test_lda, Y_train, Y_test, isXGB=False, type=\"LDA\")\n",
    "run_gradientBoosting(X_train_uncorr, X_test_uncorr, Y_train, Y_test, isXGB=False, type=\"UNCORR\")\n",
    "run_gradientBoosting(X_train, X_test, Y_train, Y_test, isXGB=False, type=\"Default\")"
   ]
  },
  {
   "cell_type": "code",
   "execution_count": 13,
   "metadata": {},
   "outputs": [
    {
     "name": "stdout",
     "output_type": "stream",
     "text": [
      "[22:34:38] WARNING: ..\\src\\learner.cc:1115: Starting in XGBoost 1.3.0, the default evaluation metric used with the objective 'multi:softmax' was changed from 'merror' to 'mlogloss'. Explicitly set eval_metric if you'd like to restore the old behavior.\n",
      "XGBoost Accuracy on test set  LDA : 0.9352317141261864\n",
      "[22:34:38] WARNING: ..\\src\\learner.cc:1115: Starting in XGBoost 1.3.0, the default evaluation metric used with the objective 'multi:softmax' was changed from 'merror' to 'mlogloss'. Explicitly set eval_metric if you'd like to restore the old behavior.\n",
      "XGBoost Accuracy on test set  UNCORR : 0.9704075935231714\n",
      "[22:34:39] WARNING: ..\\src\\learner.cc:1115: Starting in XGBoost 1.3.0, the default evaluation metric used with the objective 'multi:softmax' was changed from 'merror' to 'mlogloss'. Explicitly set eval_metric if you'd like to restore the old behavior.\n",
      "XGBoost Accuracy on test set  Default : 0.9676158570630933\n"
     ]
    }
   ],
   "source": [
    "run_gradientBoosting(X_train_lda, X_test_lda, Y_train, Y_test, isXGB=True, type=\"LDA\")\n",
    "run_gradientBoosting(X_train_uncorr, X_test_uncorr, Y_train, Y_test, isXGB=True, type=\"UNCORR\")\n",
    "run_gradientBoosting(X_train, X_test, Y_train, Y_test, isXGB=True, type=\"Default\")"
   ]
  },
  {
   "cell_type": "markdown",
   "metadata": {},
   "source": [
    "RandomForest with intact(all features) and XGBoost with top correlated Features (27) have provided the best predictions!\n",
    "\n",
    "RandomForestClassifier Accuracy on test set with Default : 0.9720826353992184\n",
    "\n",
    "XGBoost Accuracy on test set  UNCORR : 0.9704075935231714"
   ]
  },
  {
   "cell_type": "markdown",
   "metadata": {},
   "source": [
    "\n",
    "\n",
    "Final Predictions on Unseen Data"
   ]
  },
  {
   "cell_type": "code",
   "execution_count": 14,
   "metadata": {},
   "outputs": [
    {
     "name": "stdout",
     "output_type": "stream",
     "text": [
      "(2100, 31) (2100, 30) (2100,)\n"
     ]
    }
   ],
   "source": [
    "unseen_data = pd.read_csv('Phising_Testing_Dataset.csv')\n",
    "\n",
    "keys = unseen_data[\"key\"]\n",
    "final_test_x = unseen_data.drop(\"key\", axis=1)\n",
    "\n",
    "#y.replace(-1, 0, inplace=True)\n",
    "\n",
    "print(unseen_data.shape, final_test_x.shape, keys.shape)"
   ]
  },
  {
   "cell_type": "markdown",
   "metadata": {},
   "source": [
    "Prdictions on final_model_rf for RandomForestClassifier and persisting the results in desired formatted csv named Submission"
   ]
  },
  {
   "cell_type": "code",
   "execution_count": 15,
   "metadata": {},
   "outputs": [
    {
     "name": "stdout",
     "output_type": "stream",
     "text": [
      "(2100,)\n"
     ]
    }
   ],
   "source": [
    "\n",
    "\n",
    "final_pred = final_model_rf.predict(final_test_x)\n",
    "print(final_pred.shape)\n",
    "\n",
    "\n",
    "result = [['key', 'Result']]\n",
    "for i in range (0, len(keys)):\n",
    "    fpred_val = final_pred[i]\n",
    "    if fpred_val == 0:\n",
    "        fpred_val = -1\n",
    "    result.append([keys[i], fpred_val])\n",
    "\n",
    "result_df = pd.DataFrame(result)\n",
    "result_df.to_csv(\"Submission.csv\", header=False, index=False, sep=',', encoding='utf-8')"
   ]
  },
  {
   "cell_type": "markdown",
   "metadata": {},
   "source": [
    "That's All!!!\n",
    "\n",
    "\n",
    "If possible PLEASE do share feedback."
   ]
  }
 ],
 "metadata": {
  "interpreter": {
   "hash": "ea175bca00460846b6a4a98e7b7bf243d9468f9cac26b985e715757a34106c34"
  },
  "kernelspec": {
   "display_name": "Python 3.9.7 ('base')",
   "language": "python",
   "name": "python3"
  },
  "language_info": {
   "codemirror_mode": {
    "name": "ipython",
    "version": 3
   },
   "file_extension": ".py",
   "mimetype": "text/x-python",
   "name": "python",
   "nbconvert_exporter": "python",
   "pygments_lexer": "ipython3",
   "version": "3.9.7"
  },
  "orig_nbformat": 4
 },
 "nbformat": 4,
 "nbformat_minor": 2
}
